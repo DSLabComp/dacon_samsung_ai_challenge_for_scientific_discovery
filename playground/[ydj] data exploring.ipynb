{
 "cells": [
  {
   "cell_type": "code",
   "execution_count": 1,
   "id": "27d8185d",
   "metadata": {},
   "outputs": [],
   "source": [
    "import sys\n",
    "sys.path.append('../src')\n",
    "\n",
    "from util import *\n",
    "from rdkit import Chem\n",
    "from rdkit.Chem import PandasTools"
   ]
  },
  {
   "cell_type": "code",
   "execution_count": 113,
   "id": "c1942ac2",
   "metadata": {},
   "outputs": [],
   "source": [
    "train_data_path = join(PATH.INPUT, 'train.csv')\n",
    "train_data_0_path = join(PATH.INPUT, 'train_sdf', 'train_0.sdf')\n",
    "\n",
    "dev_data_path   = join(PATH.INPUT, 'dev.csv')\n",
    "dev_data_0_path = join(PATH.INPUT, 'dev_sdf', 'dev_0.sdf')\n",
    "\n",
    "test_data_path  = join(PATH.INPUT, 'test.csv')\n",
    "test_data_0_path = join(PATH.INPUT, 'test_sdf', 'test_0.sdf')"
   ]
  },
  {
   "cell_type": "markdown",
   "id": "f78aea0a",
   "metadata": {},
   "source": [
    "# 1. Data"
   ]
  },
  {
   "cell_type": "code",
   "execution_count": 120,
   "id": "7e296545",
   "metadata": {},
   "outputs": [
    {
     "name": "stdout",
     "output_type": "stream",
     "text": [
      "<class 'pandas.core.frame.DataFrame'>\n",
      "RangeIndex: 30274 entries, 0 to 30273\n",
      "Data columns (total 4 columns):\n",
      " #   Column         Non-Null Count  Dtype  \n",
      "---  ------         --------------  -----  \n",
      " 0   uid            30274 non-null  object \n",
      " 1   SMILES         30274 non-null  object \n",
      " 2   S1_energy(eV)  30274 non-null  float64\n",
      " 3   T1_energy(eV)  30274 non-null  float64\n",
      "dtypes: float64(2), object(2)\n",
      "memory usage: 946.2+ KB\n",
      "None\n"
     ]
    },
    {
     "data": {
      "text/html": [
       "<div>\n",
       "<style scoped>\n",
       "    .dataframe tbody tr th:only-of-type {\n",
       "        vertical-align: middle;\n",
       "    }\n",
       "\n",
       "    .dataframe tbody tr th {\n",
       "        vertical-align: top;\n",
       "    }\n",
       "\n",
       "    .dataframe thead th {\n",
       "        text-align: right;\n",
       "    }\n",
       "</style>\n",
       "<table border=\"1\" class=\"dataframe\">\n",
       "  <thead>\n",
       "    <tr style=\"text-align: right;\">\n",
       "      <th></th>\n",
       "      <th>uid</th>\n",
       "      <th>SMILES</th>\n",
       "      <th>S1_energy(eV)</th>\n",
       "      <th>T1_energy(eV)</th>\n",
       "    </tr>\n",
       "  </thead>\n",
       "  <tbody>\n",
       "    <tr>\n",
       "      <th>0</th>\n",
       "      <td>train_0</td>\n",
       "      <td>CCC1CCCCN1C(=O)C(C)OC(=O)c1c(C)oc(-n2cccc2)c1C#N</td>\n",
       "      <td>4.6747</td>\n",
       "      <td>3.3809</td>\n",
       "    </tr>\n",
       "    <tr>\n",
       "      <th>1</th>\n",
       "      <td>train_1</td>\n",
       "      <td>COc1ccc(Oc2ccc(N3C(=S)NC(c4ccccn4)C3c3cc(C)n(-c4cc(Cl)ccc4O)c3C)cc2)cc1</td>\n",
       "      <td>3.6617</td>\n",
       "      <td>3.4585</td>\n",
       "    </tr>\n",
       "    <tr>\n",
       "      <th>2</th>\n",
       "      <td>train_2</td>\n",
       "      <td>CC(=O)Nc1ccc(C(=O)[C@H](C)Sc2nnc(C3CCCCC3)o2)cc1</td>\n",
       "      <td>3.6420</td>\n",
       "      <td>3.1787</td>\n",
       "    </tr>\n",
       "    <tr>\n",
       "      <th>3</th>\n",
       "      <td>train_3</td>\n",
       "      <td>OC(CNC1CC1)CN1CCc2sccc2C1</td>\n",
       "      <td>4.8901</td>\n",
       "      <td>3.7847</td>\n",
       "    </tr>\n",
       "    <tr>\n",
       "      <th>4</th>\n",
       "      <td>train_4</td>\n",
       "      <td>CCNC(CCCC(F)(F)F)C1(OCC)CCOCC1</td>\n",
       "      <td>6.4967</td>\n",
       "      <td>6.2724</td>\n",
       "    </tr>\n",
       "  </tbody>\n",
       "</table>\n",
       "</div>"
      ],
      "text/plain": [
       "       uid                                                                   SMILES  S1_energy(eV)  T1_energy(eV)\n",
       "0  train_0                         CCC1CCCCN1C(=O)C(C)OC(=O)c1c(C)oc(-n2cccc2)c1C#N         4.6747         3.3809\n",
       "1  train_1  COc1ccc(Oc2ccc(N3C(=S)NC(c4ccccn4)C3c3cc(C)n(-c4cc(Cl)ccc4O)c3C)cc2)cc1         3.6617         3.4585\n",
       "2  train_2                         CC(=O)Nc1ccc(C(=O)[C@H](C)Sc2nnc(C3CCCCC3)o2)cc1         3.6420         3.1787\n",
       "3  train_3                                                OC(CNC1CC1)CN1CCc2sccc2C1         4.8901         3.7847\n",
       "4  train_4                                           CCNC(CCCC(F)(F)F)C1(OCC)CCOCC1         6.4967         6.2724"
      ]
     },
     "execution_count": 120,
     "metadata": {},
     "output_type": "execute_result"
    }
   ],
   "source": [
    "data = pd.read_csv(train_data_path)\n",
    "print(data.info())\n",
    "data.head()"
   ]
  },
  {
   "cell_type": "code",
   "execution_count": 122,
   "id": "667e6847",
   "metadata": {},
   "outputs": [
    {
     "name": "stdout",
     "output_type": "stream",
     "text": [
      "<class 'pandas.core.frame.DataFrame'>\n",
      "RangeIndex: 71 entries, 0 to 70\n",
      "Data columns (total 4 columns):\n",
      " #   Column         Non-Null Count  Dtype  \n",
      "---  ------         --------------  -----  \n",
      " 0   uid            71 non-null     object \n",
      " 1   SMILES         71 non-null     object \n",
      " 2   S1_energy(eV)  71 non-null     float64\n",
      " 3   T1_energy(eV)  71 non-null     float64\n",
      "dtypes: float64(2), object(2)\n",
      "memory usage: 2.3+ KB\n",
      "None\n"
     ]
    },
    {
     "data": {
      "text/html": [
       "<div>\n",
       "<style scoped>\n",
       "    .dataframe tbody tr th:only-of-type {\n",
       "        vertical-align: middle;\n",
       "    }\n",
       "\n",
       "    .dataframe tbody tr th {\n",
       "        vertical-align: top;\n",
       "    }\n",
       "\n",
       "    .dataframe thead th {\n",
       "        text-align: right;\n",
       "    }\n",
       "</style>\n",
       "<table border=\"1\" class=\"dataframe\">\n",
       "  <thead>\n",
       "    <tr style=\"text-align: right;\">\n",
       "      <th></th>\n",
       "      <th>uid</th>\n",
       "      <th>SMILES</th>\n",
       "      <th>S1_energy(eV)</th>\n",
       "      <th>T1_energy(eV)</th>\n",
       "    </tr>\n",
       "  </thead>\n",
       "  <tbody>\n",
       "    <tr>\n",
       "      <th>0</th>\n",
       "      <td>dev_0</td>\n",
       "      <td>O=C1c2ccccc2C2(c3ccccc31)c1ccccc1N(c1ccc(-c3nc(-c4ccccc4)nc(-c4ccccc4)n3)cc1)c1ccccc12</td>\n",
       "      <td>2.7609</td>\n",
       "      <td>2.7540</td>\n",
       "    </tr>\n",
       "    <tr>\n",
       "      <th>1</th>\n",
       "      <td>dev_1</td>\n",
       "      <td>Cc1cccc2c3ccccc3n(-c3ccc(-c4c(-c5ccccc5)c(C#N)c(C#N)c(-c5ccccc5)c4-c4ccc(-n5c6ccccc6c6cccc(C)c65)cc4)cc3)c12</td>\n",
       "      <td>3.0495</td>\n",
       "      <td>3.0163</td>\n",
       "    </tr>\n",
       "    <tr>\n",
       "      <th>2</th>\n",
       "      <td>dev_2</td>\n",
       "      <td>CC1(C)c2ccccc2-c2ccc(-c3c(F)c(F)c(-c4ccc5c(c4)C(C)(C)c4ccccc4-5)c4nsnc34)cc21</td>\n",
       "      <td>2.8314</td>\n",
       "      <td>2.1412</td>\n",
       "    </tr>\n",
       "    <tr>\n",
       "      <th>3</th>\n",
       "      <td>dev_3</td>\n",
       "      <td>CC(C)(C)c1ccc2c(c1)B1c3cc(C(C)(C)C)ccc3Oc3cc(-n4c5ccc(-n6c7ccccc7c7ccccc76)cc5c5cc(-n6c7ccccc7c7ccccc76)ccc54)cc(c31)O2</td>\n",
       "      <td>3.1813</td>\n",
       "      <td>2.9424</td>\n",
       "    </tr>\n",
       "    <tr>\n",
       "      <th>4</th>\n",
       "      <td>dev_4</td>\n",
       "      <td>O=C1c2cc(-c3ccc4c(c3)c3ccccc3n4-c3ccccc3)ccc2S(=O)(=O)c2ccc(-c3ccc4c(c3)c3ccccc3n4-c3ccccc3)cc21</td>\n",
       "      <td>2.9559</td>\n",
       "      <td>2.7362</td>\n",
       "    </tr>\n",
       "  </tbody>\n",
       "</table>\n",
       "</div>"
      ],
      "text/plain": [
       "     uid                                                                                                                   SMILES  S1_energy(eV)  T1_energy(eV)\n",
       "0  dev_0                                   O=C1c2ccccc2C2(c3ccccc31)c1ccccc1N(c1ccc(-c3nc(-c4ccccc4)nc(-c4ccccc4)n3)cc1)c1ccccc12         2.7609         2.7540\n",
       "1  dev_1             Cc1cccc2c3ccccc3n(-c3ccc(-c4c(-c5ccccc5)c(C#N)c(C#N)c(-c5ccccc5)c4-c4ccc(-n5c6ccccc6c6cccc(C)c65)cc4)cc3)c12         3.0495         3.0163\n",
       "2  dev_2                                            CC1(C)c2ccccc2-c2ccc(-c3c(F)c(F)c(-c4ccc5c(c4)C(C)(C)c4ccccc4-5)c4nsnc34)cc21         2.8314         2.1412\n",
       "3  dev_3  CC(C)(C)c1ccc2c(c1)B1c3cc(C(C)(C)C)ccc3Oc3cc(-n4c5ccc(-n6c7ccccc7c7ccccc76)cc5c5cc(-n6c7ccccc7c7ccccc76)ccc54)cc(c31)O2         3.1813         2.9424\n",
       "4  dev_4                         O=C1c2cc(-c3ccc4c(c3)c3ccccc3n4-c3ccccc3)ccc2S(=O)(=O)c2ccc(-c3ccc4c(c3)c3ccccc3n4-c3ccccc3)cc21         2.9559         2.7362"
      ]
     },
     "execution_count": 122,
     "metadata": {},
     "output_type": "execute_result"
    }
   ],
   "source": [
    "data = pd.read_csv(dev_data_path)\n",
    "print(data.info())\n",
    "data.head()"
   ]
  },
  {
   "cell_type": "code",
   "execution_count": 123,
   "id": "17441a5a",
   "metadata": {},
   "outputs": [
    {
     "name": "stdout",
     "output_type": "stream",
     "text": [
      "<class 'pandas.core.frame.DataFrame'>\n",
      "RangeIndex: 602 entries, 0 to 601\n",
      "Data columns (total 2 columns):\n",
      " #   Column  Non-Null Count  Dtype \n",
      "---  ------  --------------  ----- \n",
      " 0   uid     602 non-null    object\n",
      " 1   SMILES  602 non-null    object\n",
      "dtypes: object(2)\n",
      "memory usage: 9.5+ KB\n",
      "None\n"
     ]
    },
    {
     "data": {
      "text/html": [
       "<div>\n",
       "<style scoped>\n",
       "    .dataframe tbody tr th:only-of-type {\n",
       "        vertical-align: middle;\n",
       "    }\n",
       "\n",
       "    .dataframe tbody tr th {\n",
       "        vertical-align: top;\n",
       "    }\n",
       "\n",
       "    .dataframe thead th {\n",
       "        text-align: right;\n",
       "    }\n",
       "</style>\n",
       "<table border=\"1\" class=\"dataframe\">\n",
       "  <thead>\n",
       "    <tr style=\"text-align: right;\">\n",
       "      <th></th>\n",
       "      <th>uid</th>\n",
       "      <th>SMILES</th>\n",
       "    </tr>\n",
       "  </thead>\n",
       "  <tbody>\n",
       "    <tr>\n",
       "      <th>0</th>\n",
       "      <td>test_0</td>\n",
       "      <td>COc1ccc(S(=O)(=O)NC2CCN(C3CCCCC3)CC2)c(C)c1C</td>\n",
       "    </tr>\n",
       "    <tr>\n",
       "      <th>1</th>\n",
       "      <td>test_1</td>\n",
       "      <td>CC(CCCC1CCC2C3=C(CC[C@]12C)[C@@]1(C)CC[C@H](C)C(C)(C)[C@@H]1CC3)C(C)(C)O</td>\n",
       "    </tr>\n",
       "    <tr>\n",
       "      <th>2</th>\n",
       "      <td>test_2</td>\n",
       "      <td>C[C@@H]1C[C@@H]1c1ccc2c(c1)c(-c1ccc[nH]c1=O)c(C(=O)NS(C)(=O)=O)n2Cc1ccc(F)cc1F</td>\n",
       "    </tr>\n",
       "    <tr>\n",
       "      <th>3</th>\n",
       "      <td>test_3</td>\n",
       "      <td>CCCn1c(=O)c2ccccc2n2c(SCC(=O)NC(Cc3ccccc3)c3ccccc3)nnc12</td>\n",
       "    </tr>\n",
       "    <tr>\n",
       "      <th>4</th>\n",
       "      <td>test_4</td>\n",
       "      <td>CC(C)CN(C[C@@H](O)[C@H](Cc1ccccc1)NC(=O)OCc1cncs1)S(=O)(=O)c1ccc2nc(N)sc2c1</td>\n",
       "    </tr>\n",
       "  </tbody>\n",
       "</table>\n",
       "</div>"
      ],
      "text/plain": [
       "      uid                                                                          SMILES\n",
       "0  test_0                                    COc1ccc(S(=O)(=O)NC2CCN(C3CCCCC3)CC2)c(C)c1C\n",
       "1  test_1        CC(CCCC1CCC2C3=C(CC[C@]12C)[C@@]1(C)CC[C@H](C)C(C)(C)[C@@H]1CC3)C(C)(C)O\n",
       "2  test_2  C[C@@H]1C[C@@H]1c1ccc2c(c1)c(-c1ccc[nH]c1=O)c(C(=O)NS(C)(=O)=O)n2Cc1ccc(F)cc1F\n",
       "3  test_3                        CCCn1c(=O)c2ccccc2n2c(SCC(=O)NC(Cc3ccccc3)c3ccccc3)nnc12\n",
       "4  test_4     CC(C)CN(C[C@@H](O)[C@H](Cc1ccccc1)NC(=O)OCc1cncs1)S(=O)(=O)c1ccc2nc(N)sc2c1"
      ]
     },
     "execution_count": 123,
     "metadata": {},
     "output_type": "execute_result"
    }
   ],
   "source": [
    "data = pd.read_csv(test_data_path)\n",
    "print(data.info())\n",
    "data.head()"
   ]
  },
  {
   "cell_type": "markdown",
   "id": "88b6c09a",
   "metadata": {},
   "source": [
    "## 1.1 Molecule visualization"
   ]
  },
  {
   "cell_type": "code",
   "execution_count": 38,
   "id": "fd4e17b7",
   "metadata": {},
   "outputs": [
    {
     "data": {
      "text/html": [
       "<div>\n",
       "<style scoped>\n",
       "    .dataframe tbody tr th:only-of-type {\n",
       "        vertical-align: middle;\n",
       "    }\n",
       "\n",
       "    .dataframe tbody tr th {\n",
       "        vertical-align: top;\n",
       "    }\n",
       "\n",
       "    .dataframe thead th {\n",
       "        text-align: right;\n",
       "    }\n",
       "</style>\n",
       "<table border=\"1\" class=\"dataframe\">\n",
       "  <thead>\n",
       "    <tr style=\"text-align: right;\">\n",
       "      <th></th>\n",
       "      <th>ID</th>\n",
       "      <th>SMILES</th>\n",
       "      <th>MOLECULE</th>\n",
       "    </tr>\n",
       "  </thead>\n",
       "  <tbody>\n",
       "    <tr>\n",
       "      <th>0</th>\n",
       "      <td></td>\n",
       "      <td>CCC1CCCCN1C(=O)C(C)OC(=O)c1c(C)oc(-n2cccc2)c1C#N</td>\n",
       "      <td><img data-content=\"rdkit/molecule\" src=\"data:image/png;base64,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\" alt=\"Mol\"/></td>\n",
       "    </tr>\n",
       "  </tbody>\n",
       "</table>\n",
       "</div>"
      ],
      "text/plain": [
       "  ID                                            SMILES  \\\n",
       "0     CCC1CCCCN1C(=O)C(C)OC(=O)c1c(C)oc(-n2cccc2)c1C#N   \n",
       "\n",
       "                                                                                                                                                                                                                                                                                                                                                                                                                                                                                                                                                                                                                                                                                                                                                                                                                                                                                                                                                                                                                                  MOLECULE  \n",
       "0  <img data-content=\"rdkit/molecule\" src=\"data:image/png;base64,iVBORw0KGgoAAAANSUhEUgAAAMgAAADICAIAAAAiOjnJAAAABmJLR0QA/wD/AP+gvaeTAAAVXklEQVR4nO3de1SU1d4H8N8MF8EUFS1jFMlRkAj1KAdvxIJyRDwiiDieTCmjF/JYjpbJYCfBPK4cj0vD5as19aYhZXNQPJ1R84KWOiIeQQkFMRMpAQO05C63md/7x6aJkttc9gPJ77NcrgFm9t4zfOfZz7MvgwgRgRBrE3d3A8jDiYJFuKBgES4oWIQLChbhgoJFuKBgES4oWIQLChbhgoJFuKBgES4oWIQLChbhgoJFuKBgES4oWIQLChbhgoJFuKBgES4oWIQLChbhgoJFuKBgES4oWIQLChbhgoJFuKBgES4oWIQLChbhgoJFuKBgES4oWIQLChbhgoJFuKBgES4oWIQLChbhgoJFuKBgES4oWIQLChbhgoJFuKBgES4oWIQLChbhgoJFuKBgES4oWIQLChbhgoJFuKBgES4oWIQLChbhgoJFuKBgES4oWIQLChbhgoJFuKBgES4oWIQLChbhgoJFuKBgES4oWIQLChbhwra7G8BBQQGcOQP29hAWBv36dXdreqmH7oh19Sq89hqMHg19+8LcudDY2N0N6qXMD9b169f1er0Vm2IdH3wAa9eCvz+Eh8PTT8Px493doF7KnGCVlJQsXbrU19fXyclpzpw5H374YVlZmdVbZqbychg2rOX28OHQcxr2gPR00Olabms03doUHtB0ERERANC/f39jIX369AkODt65c2dRUZEZBVpTfDwePtxye8UKTE/v1tZ05J13cMwYrKxERHz22e5uTYfu3Lmj0+k++uijzz//vIsPESGiSUE8cOBARETEwIED8/Pz6+vrjx8/fvDgwePHjzf+cjYjlUpDQkLmzJkTGBhoayvgxUFFBeTnw+jRsHgxzJ...  "
      ]
     },
     "execution_count": 38,
     "metadata": {},
     "output_type": "execute_result"
    }
   ],
   "source": [
    "train_data_0 = PandasTools.LoadSDF(train_data_0_path, smilesName='SMILES', molColName='MOLECULE', isomericSmiles=False)\n",
    "train_data_0"
   ]
  },
  {
   "cell_type": "code",
   "execution_count": 35,
   "id": "a5764611",
   "metadata": {},
   "outputs": [],
   "source": [
    "PandasTools.SaveXlsxFromFrame(train_data_0, 'data.xlsx', molCol='MOLECULE')"
   ]
  },
  {
   "cell_type": "markdown",
   "id": "95fb4004",
   "metadata": {},
   "source": [
    "## 1.2 String analysis"
   ]
  },
  {
   "cell_type": "code",
   "execution_count": 112,
   "id": "f40e0a26",
   "metadata": {
    "scrolled": true
   },
   "outputs": [
    {
     "name": "stdout",
     "output_type": "stream",
     "text": [
      "======================================================\n",
      "line 0 | \n",
      "line 1 |      RDKit          3D\n",
      "line 2 | \n",
      "line 3 |  53 55  0  0  0  0  0  0  0  0999 V2000\n",
      "======================================================\n",
      "1. Number of atoms: 53\n",
      "xyz coordinates \n",
      " [[ 2.9224 -2.33    0.4554]\n",
      " [ 3.3545 -1.0107  1.0984]\n",
      " [ 3.3381  0.2004  0.1379]] \n",
      "\n",
      "2. Number of connections: 55\n",
      "connections \n",
      " [[ 1  2  1]\n",
      " [ 1 29  1]\n",
      " [ 1 30  1]]\n"
     ]
    }
   ],
   "source": [
    "with open(train_data_0_path, 'r') as f:\n",
    "    data = f.readlines()\n",
    "\n",
    "print(\"======================================================\")\n",
    "for i in range(4):\n",
    "    print(f\"line {i} |\", data[i], end='')\n",
    "print(\"======================================================\")\n",
    "\n",
    "temp = data[3].split()\n",
    "astr = temp[0]\n",
    "n = len(astr)\n",
    "if n > 3:\n",
    "    numxyz = int(astr[:n//2])\n",
    "    numc   = int(astr[n/2:n])\n",
    "else:\n",
    "    numxyz = int(temp[0])\n",
    "    numc   = int(temp[1])\n",
    "\n",
    "xyz  = np.array([[0.0]*3 for j in range(numxyz)], dtype=np.float32)  # coordinates\n",
    "atm  = np.array(['z' for i in range(numxyz)])      # atom names\n",
    "conn = np.array([[0]*3 for j in range(numc)], dtype=np.int32)   # connections\n",
    "\n",
    "for i in range(numxyz):\n",
    "    ### xyz coordinates\n",
    "    # x y z atom ... temp[4:] are ignored\n",
    "    temp = data[4 + i].split()  \n",
    "    xyz[i] = temp[:3]\n",
    "    atm[i] = temp[3]  # atom symbol (e.g. C, Cl, Hg)\n",
    "\n",
    "for i in range(numc):\n",
    "    ### connections\n",
    "    # atom1 atom2 type .  (temp[3] is ignored)\n",
    "    temp = data[4 + i + numxyz].split()\n",
    "    if len(temp) == 2:\n",
    "        astr = temp[0]\n",
    "        n    = len(astr)\n",
    "        conn[i] = [astr[:n/2], astr[n/2:n], temp[1]]\n",
    "    else:\n",
    "        conn[i] = temp[:3]\n",
    "        \n",
    "print(\"1. Number of atoms:\", numxyz)\n",
    "print(\"xyz coordinates\", '\\n', xyz[:3], '\\n')\n",
    "\n",
    "print(\"2. Number of connections:\", numc)\n",
    "print(\"connections\", '\\n', conn[:3])"
   ]
  },
  {
   "cell_type": "code",
   "execution_count": null,
   "id": "b50b4a6f",
   "metadata": {},
   "outputs": [],
   "source": []
  },
  {
   "cell_type": "code",
   "execution_count": null,
   "id": "bbffe699",
   "metadata": {},
   "outputs": [],
   "source": []
  },
  {
   "cell_type": "code",
   "execution_count": null,
   "id": "1a887324",
   "metadata": {},
   "outputs": [],
   "source": []
  }
 ],
 "metadata": {
  "kernelspec": {
   "display_name": "Python 3",
   "language": "python",
   "name": "python3"
  },
  "language_info": {
   "codemirror_mode": {
    "name": "ipython",
    "version": 3
   },
   "file_extension": ".py",
   "mimetype": "text/x-python",
   "name": "python",
   "nbconvert_exporter": "python",
   "pygments_lexer": "ipython3",
   "version": "3.8.10"
  }
 },
 "nbformat": 4,
 "nbformat_minor": 5
}
