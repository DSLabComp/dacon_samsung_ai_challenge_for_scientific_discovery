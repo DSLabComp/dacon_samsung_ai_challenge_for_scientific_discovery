{
 "cells": [
  {
   "cell_type": "code",
   "execution_count": 1,
   "id": "aaae332c",
   "metadata": {},
   "outputs": [],
   "source": [
    "import numpy as np\n",
    "import pandas as pd\n",
    "import matplotlib.pyplot as plt\n",
    "import cv2\n",
    "import rdkit\n",
    "from rdkit import Chem\n",
    "from rdkit.Chem import Draw\n",
    "from rdkit import RDLogger\n",
    "RDLogger.DisableLog('rdApp.')\n",
    "from tqdm import tqdm\n",
    "\n",
    "import torch\n",
    "from torch import nn\n",
    "from torchvision import models\n",
    "from torch.utils.data import Dataset, DataLoader\n",
    "\n",
    "from dask.diagnostics import ProgressBar\n",
    "from util import *\n",
    "\n",
    "from parallel import DataParallelCriterion"
   ]
  },
  {
   "cell_type": "code",
   "execution_count": 2,
   "id": "be5783ed",
   "metadata": {},
   "outputs": [
    {
     "data": {
      "text/plain": [
       "('1.19.5', '1.2.5', '4.5.3', '2021.03.5', '1.7.1+cu110')"
      ]
     },
     "execution_count": 2,
     "metadata": {},
     "output_type": "execute_result"
    }
   ],
   "source": [
    "np.__version__, pd.__version__, cv2.__version__, rdkit.__version__, torch.__version__"
   ]
  },
  {
   "cell_type": "code",
   "execution_count": 3,
   "id": "06f2cbc0",
   "metadata": {},
   "outputs": [],
   "source": [
    "train = pd.read_csv(join(PATH.INPUT, 'train.csv'))\n",
    "dev   = pd.read_csv(join(PATH.INPUT, 'dev.csv'))\n",
    "test  = pd.read_csv(join(PATH.INPUT, 'test.csv'))"
   ]
  },
  {
   "cell_type": "code",
   "execution_count": 4,
   "id": "a1281982",
   "metadata": {},
   "outputs": [
    {
     "data": {
      "text/html": [
       "<div>\n",
       "<style scoped>\n",
       "    .dataframe tbody tr th:only-of-type {\n",
       "        vertical-align: middle;\n",
       "    }\n",
       "\n",
       "    .dataframe tbody tr th {\n",
       "        vertical-align: top;\n",
       "    }\n",
       "\n",
       "    .dataframe thead th {\n",
       "        text-align: right;\n",
       "    }\n",
       "</style>\n",
       "<table border=\"1\" class=\"dataframe\">\n",
       "  <thead>\n",
       "    <tr style=\"text-align: right;\">\n",
       "      <th></th>\n",
       "      <th>uid</th>\n",
       "      <th>SMILES</th>\n",
       "      <th>S1_energy(eV)</th>\n",
       "      <th>T1_energy(eV)</th>\n",
       "    </tr>\n",
       "  </thead>\n",
       "  <tbody>\n",
       "    <tr>\n",
       "      <th>0</th>\n",
       "      <td>train_0</td>\n",
       "      <td>CCC1CCCCN1C(=O)C(C)OC(=O)c1c(C)oc(-n2cccc2)c1C#N</td>\n",
       "      <td>4.6747</td>\n",
       "      <td>3.3809</td>\n",
       "    </tr>\n",
       "    <tr>\n",
       "      <th>1</th>\n",
       "      <td>train_1</td>\n",
       "      <td>COc1ccc(Oc2ccc(N3C(=S)NC(c4ccccn4)C3c3cc(C)n(-c4cc(Cl)ccc4O)c3C)cc2)cc1</td>\n",
       "      <td>3.6617</td>\n",
       "      <td>3.4585</td>\n",
       "    </tr>\n",
       "    <tr>\n",
       "      <th>2</th>\n",
       "      <td>train_2</td>\n",
       "      <td>CC(=O)Nc1ccc(C(=O)[C@H](C)Sc2nnc(C3CCCCC3)o2)cc1</td>\n",
       "      <td>3.6420</td>\n",
       "      <td>3.1787</td>\n",
       "    </tr>\n",
       "    <tr>\n",
       "      <th>3</th>\n",
       "      <td>train_3</td>\n",
       "      <td>OC(CNC1CC1)CN1CCc2sccc2C1</td>\n",
       "      <td>4.8901</td>\n",
       "      <td>3.7847</td>\n",
       "    </tr>\n",
       "    <tr>\n",
       "      <th>4</th>\n",
       "      <td>train_4</td>\n",
       "      <td>CCNC(CCCC(F)(F)F)C1(OCC)CCOCC1</td>\n",
       "      <td>6.4967</td>\n",
       "      <td>6.2724</td>\n",
       "    </tr>\n",
       "  </tbody>\n",
       "</table>\n",
       "</div>"
      ],
      "text/plain": [
       "       uid                                                                   SMILES  S1_energy(eV)  T1_energy(eV)\n",
       "0  train_0                         CCC1CCCCN1C(=O)C(C)OC(=O)c1c(C)oc(-n2cccc2)c1C#N         4.6747         3.3809\n",
       "1  train_1  COc1ccc(Oc2ccc(N3C(=S)NC(c4ccccn4)C3c3cc(C)n(-c4cc(Cl)ccc4O)c3C)cc2)cc1         3.6617         3.4585\n",
       "2  train_2                         CC(=O)Nc1ccc(C(=O)[C@H](C)Sc2nnc(C3CCCCC3)o2)cc1         3.6420         3.1787\n",
       "3  train_3                                                OC(CNC1CC1)CN1CCc2sccc2C1         4.8901         3.7847\n",
       "4  train_4                                           CCNC(CCCC(F)(F)F)C1(OCC)CCOCC1         6.4967         6.2724"
      ]
     },
     "execution_count": 4,
     "metadata": {},
     "output_type": "execute_result"
    }
   ],
   "source": [
    "train.head()"
   ]
  },
  {
   "cell_type": "code",
   "execution_count": 5,
   "id": "b4d8b7c1",
   "metadata": {},
   "outputs": [
    {
     "data": {
      "text/html": [
       "<div>\n",
       "<style scoped>\n",
       "    .dataframe tbody tr th:only-of-type {\n",
       "        vertical-align: middle;\n",
       "    }\n",
       "\n",
       "    .dataframe tbody tr th {\n",
       "        vertical-align: top;\n",
       "    }\n",
       "\n",
       "    .dataframe thead th {\n",
       "        text-align: right;\n",
       "    }\n",
       "</style>\n",
       "<table border=\"1\" class=\"dataframe\">\n",
       "  <thead>\n",
       "    <tr style=\"text-align: right;\">\n",
       "      <th></th>\n",
       "      <th>uid</th>\n",
       "      <th>SMILES</th>\n",
       "    </tr>\n",
       "  </thead>\n",
       "  <tbody>\n",
       "    <tr>\n",
       "      <th>0</th>\n",
       "      <td>test_0</td>\n",
       "      <td>COc1ccc(S(=O)(=O)NC2CCN(C3CCCCC3)CC2)c(C)c1C</td>\n",
       "    </tr>\n",
       "    <tr>\n",
       "      <th>1</th>\n",
       "      <td>test_1</td>\n",
       "      <td>CC(CCCC1CCC2C3=C(CC[C@]12C)[C@@]1(C)CC[C@H](C)C(C)(C)[C@@H]1CC3)C(C)(C)O</td>\n",
       "    </tr>\n",
       "    <tr>\n",
       "      <th>2</th>\n",
       "      <td>test_2</td>\n",
       "      <td>C[C@@H]1C[C@@H]1c1ccc2c(c1)c(-c1ccc[nH]c1=O)c(C(=O)NS(C)(=O)=O)n2Cc1ccc(F)cc1F</td>\n",
       "    </tr>\n",
       "    <tr>\n",
       "      <th>3</th>\n",
       "      <td>test_3</td>\n",
       "      <td>CCCn1c(=O)c2ccccc2n2c(SCC(=O)NC(Cc3ccccc3)c3ccccc3)nnc12</td>\n",
       "    </tr>\n",
       "    <tr>\n",
       "      <th>4</th>\n",
       "      <td>test_4</td>\n",
       "      <td>CC(C)CN(C[C@@H](O)[C@H](Cc1ccccc1)NC(=O)OCc1cncs1)S(=O)(=O)c1ccc2nc(N)sc2c1</td>\n",
       "    </tr>\n",
       "  </tbody>\n",
       "</table>\n",
       "</div>"
      ],
      "text/plain": [
       "      uid                                                                          SMILES\n",
       "0  test_0                                    COc1ccc(S(=O)(=O)NC2CCN(C3CCCCC3)CC2)c(C)c1C\n",
       "1  test_1        CC(CCCC1CCC2C3=C(CC[C@]12C)[C@@]1(C)CC[C@H](C)C(C)(C)[C@@H]1CC3)C(C)(C)O\n",
       "2  test_2  C[C@@H]1C[C@@H]1c1ccc2c(c1)c(-c1ccc[nH]c1=O)c(C(=O)NS(C)(=O)=O)n2Cc1ccc(F)cc1F\n",
       "3  test_3                        CCCn1c(=O)c2ccccc2n2c(SCC(=O)NC(Cc3ccccc3)c3ccccc3)nnc12\n",
       "4  test_4     CC(C)CN(C[C@@H](O)[C@H](Cc1ccccc1)NC(=O)OCc1cncs1)S(=O)(=O)c1ccc2nc(N)sc2c1"
      ]
     },
     "execution_count": 5,
     "metadata": {},
     "output_type": "execute_result"
    }
   ],
   "source": [
    "test.head()"
   ]
  },
  {
   "cell_type": "code",
   "execution_count": 6,
   "id": "8d0aab42",
   "metadata": {},
   "outputs": [],
   "source": [
    "train = pd.concat([train, dev])"
   ]
  },
  {
   "cell_type": "code",
   "execution_count": 7,
   "id": "e81deafa",
   "metadata": {},
   "outputs": [
    {
     "data": {
      "text/plain": [
       "30345"
      ]
     },
     "execution_count": 7,
     "metadata": {},
     "output_type": "execute_result"
    }
   ],
   "source": [
    "len(train)"
   ]
  },
  {
   "cell_type": "code",
   "execution_count": 8,
   "id": "1e84b0a4",
   "metadata": {},
   "outputs": [
    {
     "data": {
      "image/png": "[encoded data removed]",
      "text/plain": [
       "<Figure size 432x288 with 1 Axes>"
      ]
     },
     "metadata": {
      "needs_background": "light"
     },
     "output_type": "display_data"
    }
   ],
   "source": [
    "train['S1_energy(eV)'].hist(bins=100, alpha=0.5)\n",
    "train['T1_energy(eV)'].hist(bins=100, alpha=0.5);"
   ]
  },
  {
   "cell_type": "code",
   "execution_count": 9,
   "id": "de50eefe",
   "metadata": {
    "scrolled": true
   },
   "outputs": [],
   "source": [
    "@delayed\n",
    "def save_img(row):\n",
    "    file   = row['uid']\n",
    "    smiles = row['SMILES']\n",
    "    m = Chem.MolFromSmiles(smiles)\n",
    "    if m is not None:\n",
    "        img = Draw.MolToImage(m, size=(300, 300))\n",
    "        img.save(join(PATH.INPUT, 'train_img', f'{file}.png'))\n",
    "\n",
    "os.makedirs(join(PATH.INPUT, 'train_img'), exist_ok=True)\n",
    "if not exists(join(PATH.INPUT, 'train_img')):\n",
    "    tasks = [save_img(row) for _, row in train.iterrows()]\n",
    "    with ProgressBar():\n",
    "        compute(*tasks, scheduler='processes')"
   ]
  },
  {
   "cell_type": "code",
   "execution_count": 10,
   "id": "ea8cbcbc",
   "metadata": {},
   "outputs": [
    {
     "data": {
      "image/png": "[encoded data removed]",
      "text/plain": [
       "<Figure size 432x288 with 1 Axes>"
      ]
     },
     "metadata": {
      "needs_background": "light"
     },
     "output_type": "display_data"
    }
   ],
   "source": [
    "sample_img = cv2.imread(join(PATH.INPUT, 'train_img', 'dev_0.png'))\n",
    "plt.imshow(sample_img);"
   ]
  },
  {
   "cell_type": "markdown",
   "id": "f9aa6fb0",
   "metadata": {},
   "source": [
    "# 하이퍼파라미터 "
   ]
  },
  {
   "cell_type": "code",
   "execution_count": 11,
   "id": "fd6cd1c7",
   "metadata": {},
   "outputs": [],
   "source": [
    "PATH.MODEL = join(PATH.ROOT, 'model')\n",
    "os.makedirs(PATH.MODEL, exist_ok=True)\n",
    "\n",
    "multi_gpu = True\n",
    "device = torch.device('cuda:0')  # TODO: fix (use device?)\n",
    "BATCH_SIZE = 64\n",
    "EPOCHS = 10\n",
    "num_layers = 1\n",
    "dropout_rate = 0.1\n",
    "embedding_dim = 128\n",
    "learning_rate = 1e-4\n",
    "vision_pretrain = True\n",
    "save_path = f\"join(PATH.MODEL, 'best_model.pt')\""
   ]
  },
  {
   "cell_type": "markdown",
   "id": "395c62eb",
   "metadata": {},
   "source": [
    "# SMILES Tokenizing"
   ]
  },
  {
   "cell_type": "code",
   "execution_count": 12,
   "id": "8aa166a0",
   "metadata": {},
   "outputs": [],
   "source": [
    "class SMILES_Tokenizer:\n",
    "    def __init__(self, max_length):\n",
    "        self.txt2idx = {}\n",
    "        self.idx2txt = {}\n",
    "        self.max_length = max_length\n",
    "    \n",
    "    def fit(self, SMILES_list):\n",
    "        unique_char = set()  # unique atom, connection, ...\n",
    "        for smiles in SMILES_list:\n",
    "            for char in smiles:\n",
    "                unique_char.add(char)\n",
    "        unioque_char = sorted(unique_char)\n",
    "        for i, char in enumerate(unique_char):\n",
    "            self.txt2idx[char] = i+2  # [2, 3, ...]\n",
    "            self.idx2txt[i+2]  = char # ['C', 'H', ...]\n",
    "        \n",
    "    def txt2seq(self, texts):\n",
    "        seqs = []\n",
    "        for text in tqdm(texts):\n",
    "            seq = [0]*self.max_length\n",
    "            for i, t in enumerate(text):\n",
    "                if i == self.max_length:\n",
    "                    break\n",
    "                try:\n",
    "                    seq[i] = self.txt2idx[t]\n",
    "                except:  # ??\n",
    "                    seq[i] = 1\n",
    "            seqs.append(seq)\n",
    "        return np.array(seqs)"
   ]
  },
  {
   "cell_type": "code",
   "execution_count": 13,
   "id": "df8cad31",
   "metadata": {},
   "outputs": [],
   "source": [
    "max_len = train.SMILES.str.len().max()  # max length of SMILES"
   ]
  },
  {
   "cell_type": "code",
   "execution_count": 14,
   "id": "82fa91e5",
   "metadata": {},
   "outputs": [],
   "source": [
    "tokenizer = SMILES_Tokenizer(max_len)\n",
    "tokenizer.fit(train.SMILES)"
   ]
  },
  {
   "cell_type": "code",
   "execution_count": 15,
   "id": "542ba9b3",
   "metadata": {
    "scrolled": true
   },
   "outputs": [
    {
     "name": "stderr",
     "output_type": "stream",
     "text": [
      "100%|██████████| 30345/30345 [00:00<00:00, 105390.28it/s]\n"
     ]
    }
   ],
   "source": [
    "seqs = tokenizer.txt2seq(train.SMILES)\n",
    "labels = train[['S1_energy(eV)', 'T1_energy(eV)']].to_numpy()\n",
    "imgs = (join(PATH.INPUT, 'train_img') + '/' + train.uid + '.png').to_numpy()"
   ]
  },
  {
   "cell_type": "markdown",
   "id": "79019889",
   "metadata": {},
   "source": [
    "# 학습 데이터셋"
   ]
  },
  {
   "cell_type": "code",
   "execution_count": 16,
   "id": "c07ee064",
   "metadata": {},
   "outputs": [],
   "source": [
    "from sklearn.utils import shuffle\n",
    "imgs, seqs, labels = shuffle(imgs, seqs, labels, random_state=42)"
   ]
  },
  {
   "cell_type": "code",
   "execution_count": 17,
   "id": "b92fc5ff",
   "metadata": {},
   "outputs": [],
   "source": [
    "N_TRAIN = 27000\n",
    "train_imgs = imgs[:N_TRAIN]\n",
    "train_seqs = seqs[:N_TRAIN]\n",
    "train_labels = labels[:N_TRAIN]\n",
    "val_imgs = imgs[N_TRAIN:]\n",
    "val_seqs = seqs[N_TRAIN:]\n",
    "val_labels = labels[N_TRAIN:]"
   ]
  },
  {
   "cell_type": "code",
   "execution_count": 18,
   "id": "2f653560",
   "metadata": {
    "scrolled": true
   },
   "outputs": [
    {
     "data": {
      "text/plain": [
       "((27000,), (27000, 265), (27000, 2), (3345,), (3345, 265), (3345, 2))"
      ]
     },
     "execution_count": 18,
     "metadata": {},
     "output_type": "execute_result"
    }
   ],
   "source": [
    "train_imgs.shape, train_seqs.shape, train_labels.shape, val_imgs.shape, val_seqs.shape, val_labels.shape"
   ]
  },
  {
   "cell_type": "code",
   "execution_count": 19,
   "id": "19465e5a",
   "metadata": {},
   "outputs": [],
   "source": [
    "class CustomDataset(Dataset):\n",
    "    def __init__(self, imgs, seqs, labels=None, mode='train'):\n",
    "        self.mode = mode\n",
    "        self.imgs = imgs\n",
    "        self.seqs = seqs\n",
    "        if self.mode == 'train':\n",
    "            self.labels = labels\n",
    "    def __len__(self):\n",
    "        return len(self.imgs)\n",
    "    \n",
    "    def __getitem__(self, i):\n",
    "        img = cv2.imread(self.imgs[i]).astype(np.float32) / 255\n",
    "        img = np.transpose(img, (2,0,1))  # [channel, height, width]\n",
    "        if self.mode == 'train':\n",
    "            return {\n",
    "                'img': torch.tensor(img, dtype=torch.float32),\n",
    "                'seq': torch.tensor(self.seqs[i], dtype=torch.long),\n",
    "                'label': torch.tensor(self.labels[i], dtype=torch.float32)\n",
    "            }\n",
    "        else:\n",
    "            return {\n",
    "                'img': torch.tensor(img, dtype=torch.float32),\n",
    "                'seq': torch.tensor(self.seqs[i], dtype=torch.long)\n",
    "            }"
   ]
  },
  {
   "cell_type": "code",
   "execution_count": 20,
   "id": "43f4dac6",
   "metadata": {},
   "outputs": [],
   "source": [
    "train_dataset = CustomDataset(train_imgs, train_seqs, train_labels)\n",
    "val_dataset   = CustomDataset(val_imgs, val_seqs, val_labels)\n",
    "\n",
    "train_dataloader = DataLoader(train_dataset, batch_size=BATCH_SIZE, num_workers=16, shuffle=True)\n",
    "val_dataloader   = DataLoader(val_dataset, batch_size=BATCH_SIZE, num_workers=16, shuffle=True)"
   ]
  },
  {
   "cell_type": "code",
   "execution_count": 21,
   "id": "50bdb728",
   "metadata": {},
   "outputs": [],
   "source": [
    "sample_batch = next(iter(train_dataloader))"
   ]
  },
  {
   "cell_type": "code",
   "execution_count": 22,
   "id": "d070c2ce",
   "metadata": {},
   "outputs": [
    {
     "name": "stdout",
     "output_type": "stream",
     "text": [
      "torch.Size([64, 3, 300, 300]) torch.Size([64, 265]) torch.Size([64, 2])\n",
      "torch.float32 torch.int64 torch.float32\n"
     ]
    }
   ],
   "source": [
    "print(sample_batch['img'].size(), sample_batch['seq'].size(), sample_batch['label'].size())\n",
    "print(sample_batch['img'].dtype, sample_batch['seq'].dtype, sample_batch['label'].dtype)"
   ]
  },
  {
   "cell_type": "code",
   "execution_count": 23,
   "id": "cab24771",
   "metadata": {},
   "outputs": [],
   "source": [
    "class CNN_Encoder(nn.Module):\n",
    "    def __init__(self, embedding_dim, rate):\n",
    "        super().__init__()\n",
    "        model = models.resnet50(pretrained=vision_pretrain)\n",
    "        modules = list(model.children())[:-2]\n",
    "        self.feature_extract_model = nn.Sequential(*modules)\n",
    "        self.dropout1 = nn.Dropout(rate)\n",
    "        self.fc = nn.Linear(2048, embedding_dim)\n",
    "        self.dropout2 = nn.Dropout(rate)\n",
    "        \n",
    "    def forward(self, x):\n",
    "        x = self.feature_extract_model(x)\n",
    "        x = x.permute(0, 2, 3, 1)\n",
    "        x = x.view(x.size(0), -1, x.size(3))\n",
    "        x = self.dropout1(x)\n",
    "        x = nn.ReLU()(self.fc(x))\n",
    "        x = self.dropout2(x)\n",
    "        return x\n",
    "    \n",
    "class RNN_Decoder(nn.Module):\n",
    "    def __init__(self, max_len, embedding_dim, num_layers, rate):\n",
    "        super().__init__()\n",
    "        self.embedding = nn.Embedding(max_len, embedding_dim)\n",
    "        self.dropout = nn.Dropout(rate)\n",
    "        self.lstm = nn.LSTM(embedding_dim, embedding_dim, num_layers)\n",
    "        self.final_layer = nn.Linear((max_len+100)*embedding_dim, 2)\n",
    "    \n",
    "    def forward(self, enc_out, dec_inp):\n",
    "        embedded = self.embedding(dec_inp)\n",
    "        embedded = self.dropout(embedded)\n",
    "        embedded = torch.cat([enc_out, embedded], dim=1)\n",
    "        hidden, _ = self.lstm(embedded)\n",
    "        hidden = hidden.view(hidden.size(0), -1)\n",
    "        output = nn.ReLU()(self.final_layer(hidden))\n",
    "        return output\n",
    "    \n",
    "class CNN2RNN(nn.Module):\n",
    "    def __init__(self, embedding_dim, max_len, num_layers, rate):\n",
    "        super().__init__()\n",
    "        self.cnn = CNN_Encoder(embedding_dim, rate)\n",
    "        self.rnn = RNN_Decoder(max_len, embedding_dim, num_layers, rate)\n",
    "        \n",
    "    def forward(self, img, seq):\n",
    "        cnn_output = self.cnn(img)\n",
    "        output = self.rnn(cnn_output, seq)\n",
    "        return output"
   ]
  },
  {
   "cell_type": "code",
   "execution_count": 24,
   "id": "2bb17818",
   "metadata": {},
   "outputs": [],
   "source": [
    "model = CNN2RNN(embedding_dim=embedding_dim, max_len=max_len, num_layers=num_layers, rate=dropout_rate)\n",
    "if multi_gpu:\n",
    "    model = nn.DataParallel(model)\n",
    "    model.cuda()\n",
    "else:\n",
    "    model = model.to(device)"
   ]
  },
  {
   "cell_type": "markdown",
   "id": "a90ce52f",
   "metadata": {},
   "source": [
    "# 학습 정의"
   ]
  },
  {
   "cell_type": "code",
   "execution_count": 25,
   "id": "6dd48fac",
   "metadata": {},
   "outputs": [],
   "source": [
    "optimizer = torch.optim.Adam(model.parameters(), lr=learning_rate)\n",
    "\n",
    "if multi_gpu:  # TOOD: fix\n",
    "#     criterion = DataParallelCriterion(criterion)    \n",
    "    criterion = nn.L1Loss()\n",
    "else:\n",
    "    criterion = nn.L1Loss()"
   ]
  },
  {
   "cell_type": "code",
   "execution_count": 26,
   "id": "17861b4e",
   "metadata": {},
   "outputs": [],
   "source": [
    "def train_step(batch_item, epoch, batch, training):\n",
    "    ### TODO: fix (use device?)\n",
    "    img = batch_item['img'].to(device)\n",
    "    seq = batch_item['seq'].to(device)\n",
    "    label = batch_item['label'].to(device)\n",
    "    \n",
    "    if training:\n",
    "        model.train()\n",
    "        optimizer.zero_grad()\n",
    "        with torch.cuda.amp.autocast():\n",
    "            output = model(img, seq)\n",
    "            loss   = criterion(output, label)\n",
    "        loss.backward()\n",
    "        optimizer.step()\n",
    "    else:\n",
    "        model.eval()\n",
    "        with torch.no_grad():\n",
    "            output = model(img, seq)\n",
    "            loss   = criterion(output, label)\n",
    "    return loss"
   ]
  },
  {
   "cell_type": "markdown",
   "id": "a9375986",
   "metadata": {},
   "source": [
    "# 학습 "
   ]
  },
  {
   "cell_type": "code",
   "execution_count": 28,
   "id": "357d827b",
   "metadata": {},
   "outputs": [
    {
     "name": "stderr",
     "output_type": "stream",
     "text": [
      "422it [01:13,  5.73it/s, Epoch=1, Loss=0.371849, Total Loss=0.509192]\n",
      "0it [00:00, ?it/s]/opt/conda/envs/rapids/lib/python3.8/site-packages/torch/nn/modules/rnn.py:581: UserWarning: RNN module weights are not part of single contiguous chunk of memory. This means they need to be compacted at every call, possibly greatly increasing memory usage. To compact weights again call flatten_parameters(). (Triggered internally at  /pytorch/aten/src/ATen/native/cudnn/RNN.cpp:775.)\n",
      "  result = _VF.lstm(input, hx, self._flat_weights, self.bias, self.num_layers,\n",
      "53it [00:04, 10.78it/s, Epoch=1, Val Loss=0.423408, Total Val Loss=0.37218573689460754]\n",
      "422it [01:08,  6.13it/s, Epoch=2, Loss=0.359024, Total Loss=0.330480]\n",
      "53it [00:04, 10.77it/s, Epoch=2, Val Loss=0.278252, Total Val Loss=0.3255631923675537] \n",
      "422it [01:08,  6.18it/s, Epoch=3, Loss=0.281840, Total Loss=0.288206]\n",
      "53it [00:04, 10.69it/s, Epoch=3, Val Loss=0.232291, Total Val Loss=0.2943139374256134] \n",
      "422it [01:08,  6.19it/s, Epoch=4, Loss=0.296294, Total Loss=0.259088]\n",
      "53it [00:05, 10.51it/s, Epoch=4, Val Loss=0.290153, Total Val Loss=0.2987009286880493] \n",
      "422it [01:08,  6.18it/s, Epoch=5, Loss=0.238690, Total Loss=0.235598]\n",
      "53it [00:05, 10.53it/s, Epoch=5, Val Loss=0.241978, Total Val Loss=0.26976338028907776]\n",
      "422it [01:08,  6.16it/s, Epoch=6, Loss=0.222251, Total Loss=0.216906]\n",
      "53it [00:05, 10.50it/s, Epoch=6, Val Loss=0.303136, Total Val Loss=0.2663744390010834] \n",
      "422it [01:07,  6.22it/s, Epoch=8, Loss=0.185668, Total Loss=0.191123]\n",
      "53it [00:05, 10.40it/s, Epoch=8, Val Loss=0.198861, Total Val Loss=0.267864465713501]  \n",
      "422it [01:08,  6.19it/s, Epoch=9, Loss=0.197391, Total Loss=0.180255]\n",
      "53it [00:05, 10.54it/s, Epoch=9, Val Loss=0.262115, Total Val Loss=0.2498018890619278] \n",
      "422it [01:08,  6.14it/s, Epoch=10, Loss=0.137219, Total Loss=0.168708]\n",
      "53it [00:05, 10.40it/s, Epoch=10, Val Loss=0.263801, Total Val Loss=0.24656540155410767]\n"
     ]
    }
   ],
   "source": [
    "loss_plot, val_loss_plot = [], []\n",
    "\n",
    "for epoch in range(EPOCHS):\n",
    "    total_loss, total_val_loss = 0, 0\n",
    "    \n",
    "    tqdm_dataset = tqdm(enumerate(train_dataloader))\n",
    "    training = True\n",
    "    \n",
    "    for batch, batch_item in tqdm_dataset:\n",
    "        batch_loss = train_step(batch_item, epoch, batch, training)\n",
    "        total_loss += batch_loss\n",
    "        \n",
    "        tqdm_dataset.set_postfix({\n",
    "            'Epoch': epoch + 1,\n",
    "            'Loss': f'{batch_loss.item():06f}',\n",
    "            'Total Loss': f'{total_loss/(batch+1):06f}'\n",
    "        })\n",
    "    loss_plot.append(total_loss/(batch+1))  # mean loss\n",
    "      \n",
    "    tqdm_dataset = tqdm(enumerate(val_dataloader))\n",
    "    training=False\n",
    "    for batch, batch_item in tqdm_dataset:\n",
    "        batch_loss = train_step(batch_item, epoch, batch, training)\n",
    "        total_val_loss += batch_loss\n",
    "        \n",
    "        tqdm_dataset.set_postfix({\n",
    "            'Epoch': epoch + 1,\n",
    "            'Val Loss': f\"{batch_loss.item():06f}\",\n",
    "            'Total Val Loss': f\"{total_val_loss/(batch+1)}\"\n",
    "        })\n",
    "    val_loss_plot.append(total_val_loss/(batch+1))\n",
    "    \n",
    "    if np.min(val_loss_plot) == val_loss_plot[-1]:\n",
    "        torch.save(model, save_path)"
   ]
  },
  {
   "cell_type": "markdown",
   "id": "fe9d1b98",
   "metadata": {},
   "source": [
    "# 학습 결과"
   ]
  },
  {
   "cell_type": "code",
   "execution_count": 29,
   "id": "79dc4e69",
   "metadata": {},
   "outputs": [
    {
     "data": {
      "image/png": "[encoded data removed]",
      "text/plain": [
       "<Figure size 432x288 with 1 Axes>"
      ]
     },
     "metadata": {
      "needs_background": "light"
     },
     "output_type": "display_data"
    }
   ],
   "source": [
    "plt.plot(loss_plot, label='train_loss')\n",
    "plt.plot(val_loss_plot, label='val_loss')\n",
    "plt.xlabel('epoch')\n",
    "plt.ylabel('loss(mae)')\n",
    "plt.legend()\n",
    "plt.show()"
   ]
  },
  {
   "cell_type": "markdown",
   "id": "eea176cc",
   "metadata": {},
   "source": [
    "# 모델 복원"
   ]
  },
  {
   "cell_type": "code",
   "execution_count": 27,
   "id": "52114338",
   "metadata": {},
   "outputs": [
    {
     "ename": "FileNotFoundError",
     "evalue": "[Errno 2] No such file or directory: \"join(PATH.MODEL, 'best_model.pt')\"",
     "output_type": "error",
     "traceback": [
      "\u001b[0;31m---------------------------------------------------------------------------\u001b[0m",
      "\u001b[0;31mFileNotFoundError\u001b[0m                         Traceback (most recent call last)",
      "\u001b[0;32m<ipython-input-27-f6cbf9c9768c>\u001b[0m in \u001b[0;36m<module>\u001b[0;34m\u001b[0m\n\u001b[0;32m----> 1\u001b[0;31m \u001b[0mmodel\u001b[0m \u001b[0;34m=\u001b[0m \u001b[0mtorch\u001b[0m\u001b[0;34m.\u001b[0m\u001b[0mload\u001b[0m\u001b[0;34m(\u001b[0m\u001b[0msave_path\u001b[0m\u001b[0;34m)\u001b[0m\u001b[0;34m\u001b[0m\u001b[0;34m\u001b[0m\u001b[0m\n\u001b[0m",
      "\u001b[0;32m/opt/conda/envs/rapids/lib/python3.8/site-packages/torch/serialization.py\u001b[0m in \u001b[0;36mload\u001b[0;34m(f, map_location, pickle_module, **pickle_load_args)\u001b[0m\n\u001b[1;32m    579\u001b[0m         \u001b[0mpickle_load_args\u001b[0m\u001b[0;34m[\u001b[0m\u001b[0;34m'encoding'\u001b[0m\u001b[0;34m]\u001b[0m \u001b[0;34m=\u001b[0m \u001b[0;34m'utf-8'\u001b[0m\u001b[0;34m\u001b[0m\u001b[0;34m\u001b[0m\u001b[0m\n\u001b[1;32m    580\u001b[0m \u001b[0;34m\u001b[0m\u001b[0m\n\u001b[0;32m--> 581\u001b[0;31m     \u001b[0;32mwith\u001b[0m \u001b[0m_open_file_like\u001b[0m\u001b[0;34m(\u001b[0m\u001b[0mf\u001b[0m\u001b[0;34m,\u001b[0m \u001b[0;34m'rb'\u001b[0m\u001b[0;34m)\u001b[0m \u001b[0;32mas\u001b[0m \u001b[0mopened_file\u001b[0m\u001b[0;34m:\u001b[0m\u001b[0;34m\u001b[0m\u001b[0;34m\u001b[0m\u001b[0m\n\u001b[0m\u001b[1;32m    582\u001b[0m         \u001b[0;32mif\u001b[0m \u001b[0m_is_zipfile\u001b[0m\u001b[0;34m(\u001b[0m\u001b[0mopened_file\u001b[0m\u001b[0;34m)\u001b[0m\u001b[0;34m:\u001b[0m\u001b[0;34m\u001b[0m\u001b[0;34m\u001b[0m\u001b[0m\n\u001b[1;32m    583\u001b[0m             \u001b[0;31m# The zipfile reader is going to advance the current file position.\u001b[0m\u001b[0;34m\u001b[0m\u001b[0;34m\u001b[0m\u001b[0;34m\u001b[0m\u001b[0m\n",
      "\u001b[0;32m/opt/conda/envs/rapids/lib/python3.8/site-packages/torch/serialization.py\u001b[0m in \u001b[0;36m_open_file_like\u001b[0;34m(name_or_buffer, mode)\u001b[0m\n\u001b[1;32m    228\u001b[0m \u001b[0;32mdef\u001b[0m \u001b[0m_open_file_like\u001b[0m\u001b[0;34m(\u001b[0m\u001b[0mname_or_buffer\u001b[0m\u001b[0;34m,\u001b[0m \u001b[0mmode\u001b[0m\u001b[0;34m)\u001b[0m\u001b[0;34m:\u001b[0m\u001b[0;34m\u001b[0m\u001b[0;34m\u001b[0m\u001b[0m\n\u001b[1;32m    229\u001b[0m     \u001b[0;32mif\u001b[0m \u001b[0m_is_path\u001b[0m\u001b[0;34m(\u001b[0m\u001b[0mname_or_buffer\u001b[0m\u001b[0;34m)\u001b[0m\u001b[0;34m:\u001b[0m\u001b[0;34m\u001b[0m\u001b[0;34m\u001b[0m\u001b[0m\n\u001b[0;32m--> 230\u001b[0;31m         \u001b[0;32mreturn\u001b[0m \u001b[0m_open_file\u001b[0m\u001b[0;34m(\u001b[0m\u001b[0mname_or_buffer\u001b[0m\u001b[0;34m,\u001b[0m \u001b[0mmode\u001b[0m\u001b[0;34m)\u001b[0m\u001b[0;34m\u001b[0m\u001b[0;34m\u001b[0m\u001b[0m\n\u001b[0m\u001b[1;32m    231\u001b[0m     \u001b[0;32melse\u001b[0m\u001b[0;34m:\u001b[0m\u001b[0;34m\u001b[0m\u001b[0;34m\u001b[0m\u001b[0m\n\u001b[1;32m    232\u001b[0m         \u001b[0;32mif\u001b[0m \u001b[0;34m'w'\u001b[0m \u001b[0;32min\u001b[0m \u001b[0mmode\u001b[0m\u001b[0;34m:\u001b[0m\u001b[0;34m\u001b[0m\u001b[0;34m\u001b[0m\u001b[0m\n",
      "\u001b[0;32m/opt/conda/envs/rapids/lib/python3.8/site-packages/torch/serialization.py\u001b[0m in \u001b[0;36m__init__\u001b[0;34m(self, name, mode)\u001b[0m\n\u001b[1;32m    209\u001b[0m \u001b[0;32mclass\u001b[0m \u001b[0m_open_file\u001b[0m\u001b[0;34m(\u001b[0m\u001b[0m_opener\u001b[0m\u001b[0;34m)\u001b[0m\u001b[0;34m:\u001b[0m\u001b[0;34m\u001b[0m\u001b[0;34m\u001b[0m\u001b[0m\n\u001b[1;32m    210\u001b[0m     \u001b[0;32mdef\u001b[0m \u001b[0m__init__\u001b[0m\u001b[0;34m(\u001b[0m\u001b[0mself\u001b[0m\u001b[0;34m,\u001b[0m \u001b[0mname\u001b[0m\u001b[0;34m,\u001b[0m \u001b[0mmode\u001b[0m\u001b[0;34m)\u001b[0m\u001b[0;34m:\u001b[0m\u001b[0;34m\u001b[0m\u001b[0;34m\u001b[0m\u001b[0m\n\u001b[0;32m--> 211\u001b[0;31m         \u001b[0msuper\u001b[0m\u001b[0;34m(\u001b[0m\u001b[0m_open_file\u001b[0m\u001b[0;34m,\u001b[0m \u001b[0mself\u001b[0m\u001b[0;34m)\u001b[0m\u001b[0;34m.\u001b[0m\u001b[0m__init__\u001b[0m\u001b[0;34m(\u001b[0m\u001b[0mopen\u001b[0m\u001b[0;34m(\u001b[0m\u001b[0mname\u001b[0m\u001b[0;34m,\u001b[0m \u001b[0mmode\u001b[0m\u001b[0;34m)\u001b[0m\u001b[0;34m)\u001b[0m\u001b[0;34m\u001b[0m\u001b[0;34m\u001b[0m\u001b[0m\n\u001b[0m\u001b[1;32m    212\u001b[0m \u001b[0;34m\u001b[0m\u001b[0m\n\u001b[1;32m    213\u001b[0m     \u001b[0;32mdef\u001b[0m \u001b[0m__exit__\u001b[0m\u001b[0;34m(\u001b[0m\u001b[0mself\u001b[0m\u001b[0;34m,\u001b[0m \u001b[0;34m*\u001b[0m\u001b[0margs\u001b[0m\u001b[0;34m)\u001b[0m\u001b[0;34m:\u001b[0m\u001b[0;34m\u001b[0m\u001b[0;34m\u001b[0m\u001b[0m\n",
      "\u001b[0;31mFileNotFoundError\u001b[0m: [Errno 2] No such file or directory: \"join(PATH.MODEL, 'best_model.pt')\""
     ]
    }
   ],
   "source": [
    "model = torch.load(save_path)"
   ]
  },
  {
   "cell_type": "markdown",
   "id": "77edf7ca",
   "metadata": {},
   "source": [
    "# 테스트 데이터 및 제출 양식 로드"
   ]
  },
  {
   "cell_type": "code",
   "execution_count": null,
   "id": "1ec50025",
   "metadata": {},
   "outputs": [],
   "source": [
    "test = pd.read_csv(join(PATH.INPUT, 'test.csv'))\n",
    "submission = pd.read_csv(join(PATH.OUTPUT, 'sample_submission.csv'))"
   ]
  },
  {
   "cell_type": "markdown",
   "id": "bb9f75e9",
   "metadata": {},
   "source": [
    "# 테스트 데이터 전처리"
   ]
  },
  {
   "cell_type": "code",
   "execution_count": null,
   "id": "9cbe23d4",
   "metadata": {},
   "outputs": [],
   "source": [
    "os.makedirs(join(PATH.INPUT, 'test_img'), exist_ok=True)\n",
    "for idx, row in tqdm(test.iterrows()):\n",
    "    file = row['uid']\n",
    "    smiles = row['SMILES']\n",
    "    m = Chem.MolFromSmiles(smiles)\n",
    "    if m is not None:\n",
    "        img = Draw.MolToImage(m, size=(300, 300))\n",
    "        img.save(join(PATH.INPUT, 'test_img', f\"{file}.png\"))"
   ]
  },
  {
   "cell_type": "markdown",
   "id": "dbdd0202",
   "metadata": {},
   "source": [
    "# 테스트 데이터셋"
   ]
  },
  {
   "cell_type": "code",
   "execution_count": null,
   "id": "df6b6196",
   "metadata": {},
   "outputs": [],
   "source": [
    "test_seqs = tokenizer.txt2seq(test.SMILES)\n",
    "test_imgs = (join(PATH.INPUT, 'test_img') + '/' + test.uid + '.png').to_numpy()"
   ]
  },
  {
   "cell_type": "code",
   "execution_count": null,
   "id": "1aa0e9da",
   "metadata": {},
   "outputs": [],
   "source": [
    "test_dataset = CustomDataset(imgs=test_imgs, seqs=test_seqs, mode='test')\n",
    "test_dataloader = DataLoader(test_dataset, batch_size=BATCH_SIZE, num_workers=16)"
   ]
  },
  {
   "cell_type": "markdown",
   "id": "5a0cc601",
   "metadata": {},
   "source": [
    "# 추론 및 제출 "
   ]
  },
  {
   "cell_type": "code",
   "execution_count": null,
   "id": "a2d78b72",
   "metadata": {},
   "outputs": [],
   "source": [
    "def predict(dataset):\n",
    "    model.eval()\n",
    "    result = []\n",
    "    for batch_item in dataset:\n",
    "        img = batch_item['img'].to(device)\n",
    "        seq = batch_item['seq'].to(device)\n",
    "        with torch.no_grad():\n",
    "            output = model(img, seq)\n",
    "        output = output.cpu().numpy()\n",
    "        gap = output[:, 0] - output[:, 1]\n",
    "        gap = np.where(gap < 0, -gap, gap)\n",
    "        result.extend(list(gap))\n",
    "    return result"
   ]
  },
  {
   "cell_type": "code",
   "execution_count": null,
   "id": "010aa9ff",
   "metadata": {},
   "outputs": [],
   "source": [
    "pred = predict(test_dataloader)"
   ]
  },
  {
   "cell_type": "code",
   "execution_count": null,
   "id": "aa15a087",
   "metadata": {},
   "outputs": [],
   "source": [
    "submission['ST1_GAP(eV)'] = pred"
   ]
  },
  {
   "cell_type": "code",
   "execution_count": null,
   "id": "2cb968eb",
   "metadata": {},
   "outputs": [],
   "source": [
    "submission.to_csv(join(PATH.OUTPUT, 'baseline.csv'), index=False)"
   ]
  },
  {
   "cell_type": "code",
   "execution_count": null,
   "id": "9f1a76d2",
   "metadata": {},
   "outputs": [],
   "source": [
    "from dacon_submit_api import dacon_submit_api\n",
    "\n",
    "result = dacon_submit_api.post_submission_file(\n",
    "    join(PATH.OUTPUT, 'baseline.csv'),\n",
    "    '542784023fe8a00bb17969fc1a171bc63699fd3ef71c94ecac9a81b3001080d3',\n",
    "    '235789',\n",
    "    'Torch',\n",
    "    'DACON_Baseline'\n",
    ")"
   ]
  }
 ],
 "metadata": {
  "kernelspec": {
   "display_name": "Python 3",
   "language": "python",
   "name": "python3"
  },
  "language_info": {
   "codemirror_mode": {
    "name": "ipython",
    "version": 3
   },
   "file_extension": ".py",
   "mimetype": "text/x-python",
   "name": "python",
   "nbconvert_exporter": "python",
   "pygments_lexer": "ipython3",
   "version": "3.8.10"
  }
 },
 "nbformat": 4,
 "nbformat_minor": 5
}
