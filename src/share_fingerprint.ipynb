{
 "cells": [
  {
   "cell_type": "code",
   "execution_count": 1,
   "id": "aaae332c",
   "metadata": {},
   "outputs": [],
   "source": [
    "from util import *\n",
    "\n",
    "import numpy as np\n",
    "import pandas as pd\n",
    "import matplotlib.pyplot as plt\n",
    "from PIL import Image\n",
    "%matplotlib inline\n",
    "\n",
    "import cv2\n",
    "import rdkit\n",
    "from rdkit import Chem\n",
    "from rdkit.Chem import Draw\n",
    "from rdkit import RDLogger\n",
    "RDLogger.DisableLog('rdApp.')\n",
    "from tqdm import tqdm\n",
    "import math\n",
    "\n",
    "from dask.diagnostics import ProgressBar\n",
    "\n",
    "import kora.install.rdkit\n",
    "# from rdkit import Chem\n",
    "from rdkit.Chem import AllChem\n",
    "from rdkit import DataStructs\n",
    "# from rdkit.Chem import Draw\n",
    "from rdkit.Chem.Draw import SimilarityMaps\n",
    "from rdkit import Chem, DataStructs\n",
    "from rdkit.Chem import MACCSkeys"
   ]
  },
  {
   "cell_type": "code",
   "execution_count": 2,
   "id": "06f2cbc0",
   "metadata": {},
   "outputs": [],
   "source": [
    "train = pd.read_csv(join(PATH.INPUT, 'train.csv'))\n",
    "dev   = pd.read_csv(join(PATH.INPUT, 'dev.csv'))\n",
    "test  = pd.read_csv(join(PATH.INPUT, 'test.csv'))\n",
    "ss    = pd.read_csv(join(PATH.OUTPUT, 'sample_submission.csv'))\n",
    "\n",
    "train = pd.concat([train, dev])\n",
    "train['ST1_GAP(eV)'] = train['S1_energy(eV)'] - train['T1_energy(eV)']"
   ]
  },
  {
   "cell_type": "code",
   "execution_count": 3,
   "id": "5819e077",
   "metadata": {},
   "outputs": [
    {
     "name": "stdout",
     "output_type": "stream",
     "text": [
      "(30345, 2048) (30345,)\n",
      "0.0    30035\n",
      "1.0      310\n",
      "dtype: int64\n",
      "\n",
      "(602, 2048)\n",
      "0.0    594\n",
      "1.0      8\n",
      "dtype: int64\n"
     ]
    }
   ],
   "source": [
    "ffpp = 'pattern'\n",
    "\n",
    "train_fps = []\n",
    "train_y   = []\n",
    "for index, row in train.iterrows():\n",
    "    try:\n",
    "        mol = Chem.MolFromSmiles(row['SMILES'])\n",
    "        if ffpp == 'maccs':\n",
    "            fp = MACCSkeys.GenMACCSKeys(mol)\n",
    "        elif ffpp == 'morgan':\n",
    "            fp = Chem.AllChem.GetMorganFingerprintAsBitVect(Mol, 4)\n",
    "        elif ffpp == 'rdkit':\n",
    "            fp = Chem.RDKFingerprint(mol)\n",
    "        elif ffpp == 'pattern':\n",
    "            fp = Chem.rdmolops.PatternFingerprint(mol)\n",
    "        elif ffpp == 'layerd':\n",
    "            fp = Chem.rdmolops.LayeredFingerprint(mol)\n",
    "        train_fps.append(fp)\n",
    "        train_y.append(row['ST1_GAP(eV)'])\n",
    "    except:\n",
    "        pass\n",
    "\n",
    "np_train_fps = []\n",
    "for fp in train_fps:\n",
    "    arr = np.zeros((0,))\n",
    "    DataStructs.ConvertToNumpyArray(fp, arr)\n",
    "    np_train_fps.append(arr)\n",
    "np_train_fps_array = np.array(np_train_fps)\n",
    "train_y = np.array(train_y)\n",
    "\n",
    "\n",
    "test_fps = []  # test fingerprints\n",
    "test_y   = []  # test y(label)\n",
    "for index, row in test.iterrows():\n",
    "    try:\n",
    "        mol = Chem.MolFromSmiles(row['SMILES'])\n",
    "        if ffpp == 'maccs':\n",
    "            fp = MACCSkeys.GenMACCSKeys(mol)\n",
    "        elif ffpp == 'morgan':\n",
    "            fp = Chem.AllChem.GetMorganFingerprintAsBitVect(mol, 4)\n",
    "        elif ffpp == 'rdkit':\n",
    "            fp = Chem.RDKFingerprint(mol)\n",
    "        elif ffpp == 'pattern':\n",
    "            fp = Chem.rdmolops.PatternFingerprint(mol)\n",
    "        elif ffpp == 'layerd':\n",
    "            fp = Chem.rdmolops.LayeredFingerprint(mol)\n",
    "        test_fps.append(fp)\n",
    "    except:\n",
    "        pass\n",
    "\n",
    "np_test_fps = []\n",
    "for fp in test_fps:\n",
    "    arr = np.zeros((0,))\n",
    "    DataStructs.ConvertToNumpyArray(fp, arr)\n",
    "    np_test_fps.append(arr)\n",
    "np_test_fps_array = np.array(np_test_fps)\n",
    "\n",
    "    \n",
    "print(np_train_fps_array.shape, train_y.shape)\n",
    "print(pd.Series(np_train_fps_array[:, 0]).value_counts())\n",
    "# np_train_fps_array = np.delete(np_train_fps_array,0,1)\n",
    "\n",
    "print()\n",
    "print(np_test_fps_array.shape)\n",
    "print(pd.Series(np_test_fps_array[:, 0]).value_counts())"
   ]
  },
  {
   "cell_type": "markdown",
   "id": "8f228f94",
   "metadata": {},
   "source": [
    "# 모델링"
   ]
  },
  {
   "cell_type": "code",
   "execution_count": 4,
   "id": "6f4ac80a",
   "metadata": {},
   "outputs": [
    {
     "name": "stdout",
     "output_type": "stream",
     "text": [
      "train: (21241, 2048) (21241,)\n",
      "val: (9104, 2048) (9104,)\n",
      "test: (602, 2048)\n"
     ]
    }
   ],
   "source": [
    "from sklearn.utils import shuffle\n",
    "from sklearn.model_selection import train_test_split\n",
    "\n",
    "RS = 42\n",
    "X_train, y_train = shuffle(np_train_fps_array, np.array(train_y), random_state=RS)\n",
    "X_train, X_val, y_train, y_val = train_test_split(X_train, y_train, test_size=0.3, random_state=RS)\n",
    "X_test = np_test_fps_array\n",
    "\n",
    "N_TRAIN, D = X_train.shape\n",
    "N_VAL, D   = X_val.shape\n",
    "N_TEST, _  = X_test.shape\n",
    "\n",
    "print('train:', X_train.shape, y_train.shape)\n",
    "print('val:', X_val.shape, y_val.shape)\n",
    "print('test:', X_test.shape)"
   ]
  },
  {
   "cell_type": "code",
   "execution_count": 5,
   "id": "237e08cc",
   "metadata": {
    "scrolled": false
   },
   "outputs": [
    {
     "name": "stdout",
     "output_type": "stream",
     "text": [
      "WARNING:tensorflow:Collective ops is not configured at program startup. Some performance features may not be enabled.\n",
      "INFO:tensorflow:Using MirroredStrategy with devices ('/job:localhost/replica:0/task:0/device:GPU:0',)\n",
      "INFO:tensorflow:Reduce to /job:localhost/replica:0/task:0/device:CPU:0 then broadcast to ('/job:localhost/replica:0/task:0/device:CPU:0',).\n",
      "INFO:tensorflow:Reduce to /job:localhost/replica:0/task:0/device:CPU:0 then broadcast to ('/job:localhost/replica:0/task:0/device:CPU:0',).\n",
      "INFO:tensorflow:Reduce to /job:localhost/replica:0/task:0/device:CPU:0 then broadcast to ('/job:localhost/replica:0/task:0/device:CPU:0',).\n",
      "INFO:tensorflow:Reduce to /job:localhost/replica:0/task:0/device:CPU:0 then broadcast to ('/job:localhost/replica:0/task:0/device:CPU:0',).\n",
      "Model: \"sequential\"\n",
      "_________________________________________________________________\n",
      "Layer (type)                 Output Shape              Param #   \n",
      "=================================================================\n",
      "dense (Dense)                (None, 2048)              4196352   \n",
      "_________________________________________________________________\n",
      "activation (Activation)      (None, 2048)              0         \n",
      "_________________________________________________________________\n",
      "dense_1 (Dense)              (None, 1024)              2098176   \n",
      "_________________________________________________________________\n",
      "activation_1 (Activation)    (None, 1024)              0         \n",
      "_________________________________________________________________\n",
      "dense_2 (Dense)              (None, 128)               131200    \n",
      "_________________________________________________________________\n",
      "activation_2 (Activation)    (None, 128)               0         \n",
      "_________________________________________________________________\n",
      "dense_3 (Dense)              (None, 1)                 129       \n",
      "=================================================================\n",
      "Total params: 6,425,857\n",
      "Trainable params: 6,425,857\n",
      "Non-trainable params: 0\n",
      "_________________________________________________________________\n"
     ]
    }
   ],
   "source": [
    "import tensorflow as tf\n",
    "from tensorflow.keras.models import Sequential\n",
    "from tensorflow.keras.layers import Dense, BatchNormalization, Activation\n",
    "from tensorflow.keras.wrappers.scikit_learn import KerasRegressor\n",
    "\n",
    "\n",
    "def get_mlp_model(input_dim):\n",
    "    # 프로그램 시작시에 메모리 증가가 설정되어야만 합니다\n",
    "    os.environ[\"CUDA_DEVICE_ORDER\"]=\"PCI_BUS_ID\"   \n",
    "    os.environ[\"CUDA_VISIBLE_DEVICES\"]=\"0\"\n",
    "    \n",
    "    try:\n",
    "        for gpu in tf.config.experimental.list_physical_devices('GPU'):\n",
    "            tf.config.experimental.set_memory_growth(gpu, True)\n",
    "    except RuntimeError as e:\n",
    "        print(e)\n",
    "    \n",
    "    mirrored_strategy = tf.distribute.MirroredStrategy()\n",
    "    with mirrored_strategy.scope():\n",
    "        model = Sequential([\n",
    "            Dense(2048, input_dim=input_dim),\n",
    "            Activation('relu'),\n",
    "            Dense(1024),\n",
    "            Activation('relu'),\n",
    "            Dense(128),\n",
    "            Activation('relu'),\n",
    "            Dense(1)\n",
    "        ])\n",
    "        model.compile(optimizer='adam', loss='mean_absolute_error')\n",
    "    model.summary()\n",
    "    return model\n",
    "\n",
    "model = get_mlp_model(D)"
   ]
  },
  {
   "cell_type": "code",
   "execution_count": 6,
   "id": "56b481cb",
   "metadata": {
    "scrolled": false
   },
   "outputs": [
    {
     "name": "stdout",
     "output_type": "stream",
     "text": [
      "Epoch 1/50\n",
      "INFO:tensorflow:Reduce to /job:localhost/replica:0/task:0/device:CPU:0 then broadcast to ('/job:localhost/replica:0/task:0/device:CPU:0',).\n",
      "INFO:tensorflow:Reduce to /job:localhost/replica:0/task:0/device:CPU:0 then broadcast to ('/job:localhost/replica:0/task:0/device:CPU:0',).\n",
      "INFO:tensorflow:Reduce to /job:localhost/replica:0/task:0/device:CPU:0 then broadcast to ('/job:localhost/replica:0/task:0/device:CPU:0',).\n",
      "INFO:tensorflow:Reduce to /job:localhost/replica:0/task:0/device:CPU:0 then broadcast to ('/job:localhost/replica:0/task:0/device:CPU:0',).\n",
      "  6/465 [..............................] - ETA: 41s - loss: 2.0321 WARNING:tensorflow:Callback method `on_train_batch_begin` is slow compared to the batch time (batch time: 0.0030s vs `on_train_batch_begin` time: 0.0624s). Check your callbacks.\n",
      "WARNING:tensorflow:Callback method `on_train_batch_end` is slow compared to the batch time (batch time: 0.0030s vs `on_train_batch_end` time: 0.0108s). Check your callbacks.\n",
      "465/465 [==============================] - ETA: 0s - loss: 0.2807INFO:tensorflow:Reduce to /job:localhost/replica:0/task:0/device:CPU:0 then broadcast to ('/job:localhost/replica:0/task:0/device:CPU:0',).\n",
      "INFO:tensorflow:Reduce to /job:localhost/replica:0/task:0/device:CPU:0 then broadcast to ('/job:localhost/replica:0/task:0/device:CPU:0',).\n",
      "465/465 [==============================] - 7s 9ms/step - loss: 0.2807 - val_loss: 0.2226\n",
      "Epoch 2/50\n",
      "465/465 [==============================] - 2s 5ms/step - loss: 0.2180 - val_loss: 0.2417\n",
      "Epoch 3/50\n",
      "465/465 [==============================] - 2s 5ms/step - loss: 0.2032 - val_loss: 0.2065\n",
      "Epoch 4/50\n",
      "465/465 [==============================] - 2s 5ms/step - loss: 0.1950 - val_loss: 0.1995\n",
      "Epoch 5/50\n",
      "465/465 [==============================] - 2s 5ms/step - loss: 0.1852 - val_loss: 0.2009\n",
      "Epoch 6/50\n",
      "465/465 [==============================] - 2s 5ms/step - loss: 0.1792 - val_loss: 0.2092\n",
      "Epoch 7/50\n",
      "465/465 [==============================] - 2s 5ms/step - loss: 0.1723 - val_loss: 0.2097\n",
      "Epoch 8/50\n",
      "465/465 [==============================] - 2s 5ms/step - loss: 0.1681 - val_loss: 0.1987\n",
      "Epoch 9/50\n",
      "465/465 [==============================] - 2s 5ms/step - loss: 0.1623 - val_loss: 0.2098\n",
      "Epoch 10/50\n",
      "465/465 [==============================] - 2s 5ms/step - loss: 0.1567 - val_loss: 0.1894\n",
      "Epoch 11/50\n",
      "465/465 [==============================] - 3s 6ms/step - loss: 0.1514 - val_loss: 0.1959\n",
      "Epoch 12/50\n",
      "465/465 [==============================] - 2s 5ms/step - loss: 0.1466 - val_loss: 0.1938\n",
      "Epoch 13/50\n",
      "465/465 [==============================] - 2s 5ms/step - loss: 0.1424 - val_loss: 0.1925\n",
      "Epoch 14/50\n",
      "465/465 [==============================] - 2s 5ms/step - loss: 0.1388 - val_loss: 0.1901\n",
      "Epoch 15/50\n",
      "465/465 [==============================] - 2s 5ms/step - loss: 0.1335 - val_loss: 0.1883\n",
      "Epoch 16/50\n",
      "465/465 [==============================] - 2s 5ms/step - loss: 0.1299 - val_loss: 0.2062\n",
      "Epoch 17/50\n",
      "465/465 [==============================] - 3s 5ms/step - loss: 0.1258 - val_loss: 0.1915\n",
      "Epoch 18/50\n",
      "465/465 [==============================] - 2s 5ms/step - loss: 0.1222 - val_loss: 0.1915\n",
      "Epoch 19/50\n",
      "465/465 [==============================] - 2s 5ms/step - loss: 0.1200 - val_loss: 0.1924\n",
      "Epoch 20/50\n",
      "465/465 [==============================] - 2s 5ms/step - loss: 0.1162 - val_loss: 0.1930\n",
      "Epoch 21/50\n",
      "465/465 [==============================] - 2s 5ms/step - loss: 0.1137 - val_loss: 0.1952\n",
      "Epoch 22/50\n",
      "465/465 [==============================] - 2s 5ms/step - loss: 0.1107 - val_loss: 0.1905\n",
      "Epoch 23/50\n",
      "465/465 [==============================] - 2s 5ms/step - loss: 0.1085 - val_loss: 0.1885\n",
      "Epoch 24/50\n",
      "465/465 [==============================] - 2s 5ms/step - loss: 0.1054 - val_loss: 0.1900\n",
      "Epoch 25/50\n",
      "465/465 [==============================] - 2s 5ms/step - loss: 0.1029 - val_loss: 0.1940\n"
     ]
    }
   ],
   "source": [
    "from tensorflow.keras.callbacks import Callback, TensorBoard, ModelCheckpoint, ReduceLROnPlateau, EarlyStopping, CSVLogger\n",
    "\n",
    "### Callbacks\n",
    "ckpt_dir_path   = join(PATH.ROOT, 'model')\n",
    "result_dir_path = join(PATH.ROOT, 'result')\n",
    "\n",
    "os.makedirs(ckpt_dir_path, exist_ok=True)\n",
    "os.makedirs(result_dir_path, exist_ok=True)\n",
    "\n",
    "\n",
    "class LossPlot(Callback):\n",
    "    def __init__(self, PLOT_PATH):\n",
    "        self.PLOT_PATH = PLOT_PATH\n",
    "    def on_train_begin(self, logs={}):\n",
    "        self.losses = []\n",
    "        self.val_losses = []\n",
    "        self.idx_min = -1\n",
    "    def on_epoch_end(self, epoch, logs={}):\n",
    "        self.losses.append(logs.get('loss'))\n",
    "        self.val_losses.append(logs.get('val_loss'))\n",
    "        self.idx_min = np.argmin(self.val_losses)\n",
    "        self._save_fig()\n",
    "    def _save_fig(self):\n",
    "        fig, ax = plt.subplots(figsize=(20, 10))\n",
    "        ax.plot(self.losses, label='train')\n",
    "        ax.plot(self.val_losses, '--', linewidth=2, label='val')\n",
    "        ax.axvline(self.idx_min, color='r', ls='--', lw=3)\n",
    "        ax.set_xlabel('epochs');  ax.set_ylabel('loss')\n",
    "        ax.grid();  ax.legend(fontsize='x-large')\n",
    "        fig.savefig(self.PLOT_PATH)\n",
    "        plt.close(fig)\n",
    "        \n",
    "\n",
    "callbacks = [\n",
    "    ModelCheckpoint(join(ckpt_dir_path, \"epoch:{epoch}(val_loss:{val_loss:.4f})\"), save_weights_only=True),\n",
    "    CSVLogger(join(result_dir_path, 'log.csv')),\n",
    "    EarlyStopping(patience=10, restore_best_weights=True),\n",
    "    ReduceLROnPlateau(factor=0.2, min_lr=1e-3, patience=5, verbose=1),\n",
    "    TensorBoard(log_dir=join(PATH.ROOT, 'logs'), write_graph=True, write_images=True),\n",
    "    LossPlot(join(result_dir_path, 'loss.png'))\n",
    "]\n",
    "\n",
    "history = model.fit(X_train, y_train, epochs=50, validation_split=0.3, callbacks=callbacks, workers=os.cpu_count(), use_multiprocessing=True)"
   ]
  },
  {
   "cell_type": "code",
   "execution_count": 7,
   "id": "101c3b32",
   "metadata": {},
   "outputs": [
    {
     "data": {
      "image/png": "[encoded data removed]",
      "text/plain": [
       "<Figure size 432x288 with 1 Axes>"
      ]
     },
     "metadata": {
      "needs_background": "light"
     },
     "output_type": "display_data"
    }
   ],
   "source": [
    "img = Image.open(join(result_dir_path, 'loss.png'))\n",
    "plt.imshow(img);"
   ]
  },
  {
   "cell_type": "code",
   "execution_count": 8,
   "id": "44af9a7c",
   "metadata": {
    "scrolled": true
   },
   "outputs": [
    {
     "name": "stdout",
     "output_type": "stream",
     "text": [
      "285/285 [==============================] - 1s 3ms/step - loss: 0.1843\n"
     ]
    },
    {
     "data": {
      "text/plain": [
       "0.1843329668045044"
      ]
     },
     "execution_count": 8,
     "metadata": {},
     "output_type": "execute_result"
    }
   ],
   "source": [
    "val_loss = model.evaluate(X_val, y_val)\n",
    "val_loss"
   ]
  },
  {
   "cell_type": "code",
   "execution_count": 9,
   "id": "f14db751",
   "metadata": {},
   "outputs": [],
   "source": [
    "y_test = model.predict(X_test)\n",
    "y_test = y_test.flatten()\n",
    "y_test[y_test < 0] = 0"
   ]
  },
  {
   "cell_type": "markdown",
   "id": "5a0cc601",
   "metadata": {},
   "source": [
    "# 추론 및 제출 "
   ]
  },
  {
   "cell_type": "code",
   "execution_count": 10,
   "id": "ce665fcf",
   "metadata": {
    "collapsed": true
   },
   "outputs": [
    {
     "ename": "KeyboardInterrupt",
     "evalue": "Interrupted by user",
     "output_type": "error",
     "traceback": [
      "\u001B[0;31m---------------------------------------------------------------------------\u001B[0m",
      "\u001B[0;31mKeyboardInterrupt\u001B[0m                         Traceback (most recent call last)",
      "\u001B[0;32m<ipython-input-10-9c8b639daf2f>\u001B[0m in \u001B[0;36m<module>\u001B[0;34m\u001B[0m\n\u001B[0;32m----> 1\u001B[0;31m \u001B[0minput\u001B[0m\u001B[0;34m(\u001B[0m\u001B[0;34m)\u001B[0m\u001B[0;34m\u001B[0m\u001B[0;34m\u001B[0m\u001B[0m\n\u001B[0m",
      "\u001B[0;32m/opt/conda/envs/rapids/lib/python3.8/site-packages/ipykernel/kernelbase.py\u001B[0m in \u001B[0;36mraw_input\u001B[0;34m(self, prompt)\u001B[0m\n\u001B[1;32m    846\u001B[0m                 \u001B[0;34m\"raw_input was called, but this frontend does not support input requests.\"\u001B[0m\u001B[0;34m\u001B[0m\u001B[0;34m\u001B[0m\u001B[0m\n\u001B[1;32m    847\u001B[0m             )\n\u001B[0;32m--> 848\u001B[0;31m         return self._input_request(str(prompt),\n\u001B[0m\u001B[1;32m    849\u001B[0m             \u001B[0mself\u001B[0m\u001B[0;34m.\u001B[0m\u001B[0m_parent_ident\u001B[0m\u001B[0;34m,\u001B[0m\u001B[0;34m\u001B[0m\u001B[0;34m\u001B[0m\u001B[0m\n\u001B[1;32m    850\u001B[0m             \u001B[0mself\u001B[0m\u001B[0;34m.\u001B[0m\u001B[0m_parent_header\u001B[0m\u001B[0;34m,\u001B[0m\u001B[0;34m\u001B[0m\u001B[0;34m\u001B[0m\u001B[0m\n",
      "\u001B[0;32m/opt/conda/envs/rapids/lib/python3.8/site-packages/ipykernel/kernelbase.py\u001B[0m in \u001B[0;36m_input_request\u001B[0;34m(self, prompt, ident, parent, password)\u001B[0m\n\u001B[1;32m    890\u001B[0m             \u001B[0;32mexcept\u001B[0m \u001B[0mKeyboardInterrupt\u001B[0m\u001B[0;34m:\u001B[0m\u001B[0;34m\u001B[0m\u001B[0;34m\u001B[0m\u001B[0m\n\u001B[1;32m    891\u001B[0m                 \u001B[0;31m# re-raise KeyboardInterrupt, to truncate traceback\u001B[0m\u001B[0;34m\u001B[0m\u001B[0;34m\u001B[0m\u001B[0;34m\u001B[0m\u001B[0m\n\u001B[0;32m--> 892\u001B[0;31m                 \u001B[0;32mraise\u001B[0m \u001B[0mKeyboardInterrupt\u001B[0m\u001B[0;34m(\u001B[0m\u001B[0;34m\"Interrupted by user\"\u001B[0m\u001B[0;34m)\u001B[0m \u001B[0;32mfrom\u001B[0m \u001B[0;32mNone\u001B[0m\u001B[0;34m\u001B[0m\u001B[0;34m\u001B[0m\u001B[0m\n\u001B[0m\u001B[1;32m    893\u001B[0m             \u001B[0;32mexcept\u001B[0m \u001B[0mException\u001B[0m \u001B[0;32mas\u001B[0m \u001B[0me\u001B[0m\u001B[0;34m:\u001B[0m\u001B[0;34m\u001B[0m\u001B[0;34m\u001B[0m\u001B[0m\n\u001B[1;32m    894\u001B[0m                 \u001B[0mself\u001B[0m\u001B[0;34m.\u001B[0m\u001B[0mlog\u001B[0m\u001B[0;34m.\u001B[0m\u001B[0mwarning\u001B[0m\u001B[0;34m(\u001B[0m\u001B[0;34m\"Invalid Message:\"\u001B[0m\u001B[0;34m,\u001B[0m \u001B[0mexc_info\u001B[0m\u001B[0;34m=\u001B[0m\u001B[0;32mTrue\u001B[0m\u001B[0;34m)\u001B[0m\u001B[0;34m\u001B[0m\u001B[0;34m\u001B[0m\u001B[0m\n",
      "\u001B[0;31mKeyboardInterrupt\u001B[0m: Interrupted by user"
     ]
    }
   ],
   "source": [
    "input()"
   ]
  },
  {
   "cell_type": "code",
   "execution_count": null,
   "id": "2cb968eb",
   "metadata": {},
   "outputs": [],
   "source": [
    "ss['ST1_GAP(eV)'] = y_test\n",
    "ss.to_csv(join(PATH.OUTPUT, 'pattern_mlp.csv'), index=False)"
   ]
  },
  {
   "cell_type": "code",
   "execution_count": null,
   "id": "9f1a76d2",
   "metadata": {},
   "outputs": [],
   "source": [
    "from dacon_submit_api import dacon_submit_api\n",
    "\n",
    "result = dacon_submit_api.post_submission_file(\n",
    "    join(PATH.OUTPUT, 'pattern_mlp.csv'),\n",
    "    '542784023fe8a00bb17969fc1a171bc63699fd3ef71c94ecac9a81b3001080d3',\n",
    "    '235789',\n",
    "    'Torch',\n",
    "    'pattern_mlp'\n",
    ")"
   ]
  }
 ],
 "metadata": {
  "kernelspec": {
   "display_name": "Python 3",
   "language": "python",
   "name": "python3"
  },
  "language_info": {
   "codemirror_mode": {
    "name": "ipython",
    "version": 3
   },
   "file_extension": ".py",
   "mimetype": "text/x-python",
   "name": "python",
   "nbconvert_exporter": "python",
   "pygments_lexer": "ipython3",
   "version": "3.8.10"
  }
 },
 "nbformat": 4,
 "nbformat_minor": 5
}